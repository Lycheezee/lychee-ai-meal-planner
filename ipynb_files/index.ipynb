{
 "cells": [
  {
   "cell_type": "markdown",
   "id": "506cd34d",
   "metadata": {},
   "source": [
    "# Meal Planning Notebook\n",
    "\n",
    "This notebook helps create personalized meal plans based on your physical characteristics, activity level, and macro preferences. It uses a fuzzy logic system to adjust calorie targets and selects appropriate foods from a nutrition dataset.\n"
   ]
  },
  {
   "cell_type": "code",
   "execution_count": 10,
   "id": "1a64932f",
   "metadata": {},
   "outputs": [],
   "source": [
    "import pandas as pd"
   ]
  },
  {
   "cell_type": "code",
   "execution_count": 11,
   "id": "18ca7f58",
   "metadata": {},
   "outputs": [],
   "source": [
    "import sys\n",
    "import os\n",
    "sys.path.append('..')\n",
    "\n",
    "from helpers.helper import generate_first_meal_plan\n",
    "from helpers.calculate_bmi import calculate_bmi\n",
    "from helpers.calculate_age import calculate_age"
   ]
  },
  {
   "cell_type": "code",
   "execution_count": 12,
   "id": "651dfc19",
   "metadata": {},
   "outputs": [],
   "source": [
    "df = pd.read_csv(\"../dataset/daily_food_nutrition_dataset.csv\")"
   ]
  },
  {
   "cell_type": "code",
   "execution_count": 13,
   "id": "4f674d6b",
   "metadata": {},
   "outputs": [],
   "source": [
    "height = float(input(\"Enter your height (cm): \"))\n",
    "weight = float(input(\"Enter your weight (kg): \"))\n",
    "gender = input(\"Enter your gender (male/female): \")\n",
    "exercise_rate = input(\"Enter your exercise rate (sedentary, light, moderate, active, very active): \")\n",
    "\n",
    "# New Inputs\n",
    "dob_input = input(\"Enter your date of birth (YYYY-MM-DD): \")\n",
    "age = calculate_age(dob_input)\n",
    "\n",
    "macro_preference = input(\"Enter your macronutrient preference (high protein, low carb, balanced, keto, etc.): \")\n"
   ]
  },
  {
   "cell_type": "code",
   "execution_count": 14,
   "id": "053c6232",
   "metadata": {},
   "outputs": [
    {
     "name": "stdout",
     "output_type": "stream",
     "text": [
      "Calorie adjustment factor based on BMI, activity level, and age: 0.65\n"
     ]
    }
   ],
   "source": [
    "bmi = calculate_bmi(weight, height)\n",
    "meal_plan = generate_first_meal_plan(df, gender, bmi, exercise_rate, age, macro_preference)"
   ]
  },
  {
   "cell_type": "code",
   "execution_count": 15,
   "id": "3a4c4393",
   "metadata": {},
   "outputs": [],
   "source": [
    "from tabulate import tabulate\n",
    "\n",
    "total_row = meal_plan[['Calories (kcal)', 'Protein (g)', 'Carbohydrates (g)', 'Fat (g)', 'Fiber (g)']].sum()\n",
    "total_row['Category'] = 'Total'\n",
    "total_row['Food_Item'] = ''\n",
    "\n",
    "df_with_total = pd.concat([meal_plan, pd.DataFrame([total_row])], ignore_index=True)"
   ]
  },
  {
   "cell_type": "code",
   "execution_count": 16,
   "id": "3aee32ad",
   "metadata": {},
   "outputs": [
    {
     "name": "stdout",
     "output_type": "stream",
     "text": [
      "+---+-----------+------------+-----------+-----------------+-------------+-------------------+--------------------+-----------+\n",
      "|   | Meal_Type |  Category  | Food_Item | Calories (kcal) | Protein (g) | Carbohydrates (g) |      Fat (g)       | Fiber (g) |\n",
      "+---+-----------+------------+-----------+-----------------+-------------+-------------------+--------------------+-----------+\n",
      "| 0 | Breakfast |   Grains   |  Quinoa   |      223.0      |    27.2     |       34.9        |        9.2         |    3.6    |\n",
      "| 1 | Breakfast |   Dairy    |  Cheese   |      183.0      |     2.2     |       23.1        |        39.0        |    7.2    |\n",
      "| 2 |   Lunch   |    Meat    |   Eggs    |      163.0      |     8.9     |       24.1        |        7.3         |    7.3    |\n",
      "| 3 |   Lunch   | Vegetables |  Tomato   |      188.0      |    32.8     |       28.5        |        9.8         |    3.6    |\n",
      "| 4 |   Lunch   |   Grains   |   Bread   |      276.0      |     1.9     |       29.7        |        11.9        |    0.4    |\n",
      "| 5 |   Snack   |   Snacks   |  Cookies  |      173.0      |    39.5     |       26.9        |        5.9         |    4.5    |\n",
      "| 6 |  Dinner   |    Meat    | Pork Chop |      183.0      |    17.4     |       22.8        |        3.9         |    6.9    |\n",
      "| 7 |  Dinner   | Vegetables |  Potato   |      153.0      |     1.2     |       43.1        |        6.1         |    7.3    |\n",
      "| 8 |  Dinner   |   Grains   |   Oats    |      162.0      |     2.0     |       75.1        |        16.6        |    3.8    |\n",
      "| 9 |    nan    |   Total    |           |     1704.0      |    133.1    |       308.2       | 109.70000000000002 |   44.6    |\n",
      "+---+-----------+------------+-----------+-----------------+-------------+-------------------+--------------------+-----------+\n",
      "+---+-----------+\n",
      "|   | Food_Item |\n",
      "+---+-----------+\n",
      "| 0 |  Quinoa   |\n",
      "| 1 |  Cheese   |\n",
      "| 2 |   Eggs    |\n",
      "| 3 |  Tomato   |\n",
      "| 4 |   Bread   |\n",
      "| 5 |  Cookies  |\n",
      "| 6 | Pork Chop |\n",
      "| 7 |  Potato   |\n",
      "| 8 |   Oats    |\n",
      "| 9 |           |\n",
      "+---+-----------+\n"
     ]
    }
   ],
   "source": [
    "print(tabulate(df_with_total[['Meal_Type', 'Category', 'Food_Item', 'Calories (kcal)', 'Protein (g)', 'Carbohydrates (g)', 'Fat (g)', 'Fiber (g)']], \n",
    "               headers='keys', tablefmt='pretty'))\n",
    "print(tabulate(df_with_total[['Food_Item']], headers='keys', tablefmt='pretty'))"
   ]
  },
  {
   "cell_type": "code",
   "execution_count": 17,
   "id": "23035da0",
   "metadata": {},
   "outputs": [],
   "source": [
    "from pandas.api.types import CategoricalDtype\n",
    "\n",
    "# Define the desired order\n",
    "meal_order = ['Breakfast', 'Lunch', 'Snack', 'Dinner']\n",
    "meal_type_order = CategoricalDtype(categories=meal_order, ordered=True)\n",
    "\n",
    "# Apply the order\n",
    "result_df = df_with_total[['Meal_Type', 'Category', 'Food_Item']].copy()\n",
    "result_df = result_df.iloc[:-1]\n",
    "result_df['Meal_Type'] = result_df['Meal_Type'].astype(meal_type_order)\n",
    "\n",
    "# Sort and export\n",
    "result_df = result_df.sort_values('Meal_Type').reset_index(drop=True)\n",
    "result_df.to_csv(\"test_result/first_meal_plan.csv\", index=False)\n"
   ]
  },
  {
   "cell_type": "code",
   "execution_count": 18,
   "id": "682f32c4",
   "metadata": {},
   "outputs": [
    {
     "name": "stdout",
     "output_type": "stream",
     "text": [
      "\n",
      "🔍 TESTING REFINED CALORIE ADJUSTMENT SYSTEM\n",
      "==================================================\n",
      "Case: Underweight youth with sedentary lifestyle\n",
      "  BMI: 17.0, Exercise: sedentary, Age: 22\n",
      "  Adjustment Factor: 1.20\n",
      "  Adjusted Calories: Male: 3390 kcal, Female: 3060 kcal\n",
      "\n",
      "Case: Normal weight young adult with moderate activity\n",
      "  BMI: 22.5, Exercise: moderate, Age: 30\n",
      "  Adjustment Factor: 0.99\n",
      "  Adjusted Calories: Male: 2797 kcal, Female: 2524 kcal\n",
      "\n",
      "Case: Overweight adult with active lifestyle\n",
      "  BMI: 27.0, Exercise: active, Age: 45\n",
      "  Adjustment Factor: 1.00\n",
      "  Adjusted Calories: Male: 2825 kcal, Female: 2550 kcal\n",
      "\n",
      "Case: Obese senior with light activity\n",
      "  BMI: 31.0, Exercise: light, Age: 65\n",
      "  Adjustment Factor: 1.00\n",
      "  Adjusted Calories: Male: 2825 kcal, Female: 2550 kcal\n",
      "\n",
      "Case: Lean young athlete\n",
      "  BMI: 19.0, Exercise: very active, Age: 25\n",
      "  Adjustment Factor: 1.00\n",
      "  Adjusted Calories: Male: 2825 kcal, Female: 2550 kcal\n",
      "\n",
      "Case: Obese senior with sedentary lifestyle\n",
      "  BMI: 33.0, Exercise: sedentary, Age: 70\n",
      "  Adjustment Factor: 0.65\n",
      "  Adjusted Calories: Male: 1836 kcal, Female: 1658 kcal\n",
      "\n",
      "\n",
      "📊 REFERENCE TABLE FROM RESEARCH DATA:\n",
      "- Male (50-90kg): Sedentary 1700-3050, Moderate 2050-3600, Active 2350-4200 kcal\n",
      "- Female (45-85kg): Sedentary 1600-2800, Moderate 1800-3300, Active 2000-3850 kcal\n",
      "\n",
      "The refined system produces calorie targets that align with research data while\n",
      "accounting for individual factors like BMI, specific activity level, and age.\n"
     ]
    }
   ],
   "source": [
    "# Test the refined calorie adjustment system\n",
    "import sys\n",
    "sys.path.append('../')\n",
    "from helpers.fuzzy_system import fuzzy_calorie_adjustment\n",
    "from constant import male_targets, female_targets\n",
    "\n",
    "print(\"\\n🔍 TESTING REFINED CALORIE ADJUSTMENT SYSTEM\\n\" + \"=\"*50)\n",
    "\n",
    "test_cases = [\n",
    "    # Format: (bmi, exercise_rate, age, description)\n",
    "    (17.0, 'sedentary', 22, \"Underweight youth with sedentary lifestyle\"),\n",
    "    (22.5, 'moderate', 30, \"Normal weight young adult with moderate activity\"),\n",
    "    (27.0, 'active', 45, \"Overweight adult with active lifestyle\"),\n",
    "    (31.0, 'light', 65, \"Obese senior with light activity\"),\n",
    "    (19.0, 'very active', 25, \"Lean young athlete\"),\n",
    "    (33.0, 'sedentary', 70, \"Obese senior with sedentary lifestyle\")\n",
    "]\n",
    "\n",
    "for bmi, exercise, age, desc in test_cases:\n",
    "    adjustment = fuzzy_calorie_adjustment(bmi, exercise, age)\n",
    "    print(f\"Case: {desc}\")\n",
    "    print(f\"  BMI: {bmi:.1f}, Exercise: {exercise}, Age: {age}\")\n",
    "    print(f\"  Adjustment Factor: {adjustment:.2f}\")\n",
    "    \n",
    "    # Calculate example calories for male and female\n",
    "    male_cal = male_targets['calories'] * adjustment\n",
    "    female_cal = female_targets['calories'] * adjustment\n",
    "    print(f\"  Adjusted Calories: Male: {male_cal:.0f} kcal, Female: {female_cal:.0f} kcal\\n\")\n",
    "\n",
    "print(\"\\n📊 REFERENCE TABLE FROM RESEARCH DATA:\")\n",
    "print(\"- Male (50-90kg): Sedentary 1700-3050, Moderate 2050-3600, Active 2350-4200 kcal\")\n",
    "print(\"- Female (45-85kg): Sedentary 1600-2800, Moderate 1800-3300, Active 2000-3850 kcal\")\n",
    "print(\"\\nThe refined system produces calorie targets that align with research data while\")\n",
    "print(\"accounting for individual factors like BMI, specific activity level, and age.\")\n"
   ]
  },
  {
   "cell_type": "markdown",
   "id": "1a92b0d5",
   "metadata": {},
   "source": [
    "## 🌟 Refined Nutrition System Summary\n",
    "\n",
    "Based on the detailed calorie and activity data from research, the meal planning system has been enhanced with the following improvements:\n",
    "\n",
    "### 1. 📊 Enhanced Activity and Calorie Data\n",
    "\n",
    "- **More Granular Activity Levels**: Expanded from 3 to 5 physical activity levels (PAL 1.40-2.40)\n",
    "- **Gender-Specific Calorie Ranges**: Separate detailed ranges for males (50-90kg) and females (45-85kg)\n",
    "- **Complete Range Representation**: Min, max, and midpoint values for all activity levels\n",
    "\n",
    "### 2. 🧠 Advanced Fuzzy Logic System\n",
    "\n",
    "- **Enhanced BMI Classification**: 7 ranges from severely underweight to obese class III\n",
    "- **Improved Age Membership**: Research-based age groups aligned with metabolic patterns\n",
    "- **Comprehensive Rule Base**: 50+ specialized rules for optimal calorie adjustment\n",
    "\n",
    "### 3. 🔬 Research-Driven Adjustments\n",
    "\n",
    "- **Weight-Based Scaling**: Adjustments based on position within weight range\n",
    "- **Age-Related Metabolism**: Accounts for metabolic changes across lifespan\n",
    "- **Safety Limits**: Ensures recommendations stay within healthy ranges\n",
    "\n",
    "These refinements ensure that meal plans are precisely tailored to individual characteristics, resulting in more accurate and personalized nutrition recommendations that align with research-based guidelines.\n"
   ]
  }
 ],
 "metadata": {
  "kernelspec": {
   "display_name": "Python 3",
   "language": "python",
   "name": "python3"
  },
  "language_info": {
   "codemirror_mode": {
    "name": "ipython",
    "version": 3
   },
   "file_extension": ".py",
   "mimetype": "text/x-python",
   "name": "python",
   "nbconvert_exporter": "python",
   "pygments_lexer": "ipython3",
   "version": "3.11.5"
  }
 },
 "nbformat": 4,
 "nbformat_minor": 5
}
